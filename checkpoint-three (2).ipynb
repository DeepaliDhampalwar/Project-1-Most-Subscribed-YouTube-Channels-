{
 "cells": [
  {
   "attachments": {},
   "cell_type": "markdown",
   "metadata": {
    "azdata_cell_guid": "26037d32-2047-4157-81ef-595916bd66a0"
   },
   "source": [
    "# Checkpoint Three: Cleaning Data\n",
    "\n",
    "Now you are ready to clean your data. Before starting coding, provide the link to your dataset below.\n",
    "\n",
    "My dataset: https://www.kaggle.com/datasets/surajjha101/top-youtube-channels-data\n",
    "\n",
    "\n",
    "Import the necessary libraries and create your dataframe(s)."
   ]
  },
  {
   "cell_type": "code",
   "execution_count": 3,
   "metadata": {
    "azdata_cell_guid": "e8adef8e-d0f2-4640-a179-5997f11e82ca"
   },
   "outputs": [
    {
     "name": "stdout",
     "output_type": "stream",
     "text": [
      "<class 'pandas.core.frame.DataFrame'>\n",
      "RangeIndex: 1000 entries, 0 to 999\n",
      "Data columns (total 7 columns):\n",
      " #   Column       Non-Null Count  Dtype \n",
      "---  ------       --------------  ----- \n",
      " 0   rank         1000 non-null   int64 \n",
      " 1   Youtuber     1000 non-null   object\n",
      " 2   subscribers  1000 non-null   object\n",
      " 3   video views  1000 non-null   object\n",
      " 4   video count  1000 non-null   object\n",
      " 5   category     973 non-null    object\n",
      " 6   started      1000 non-null   int64 \n",
      "dtypes: int64(2), object(5)\n",
      "memory usage: 54.8+ KB\n"
     ]
    }
   ],
   "source": [
    "# The first step is to Import all necessary libraries and my dataset. \n",
    "import pandas as pd\n",
    "import matplotlib.pyplot as plt\n",
    "import seaborn as sns\n",
    "import numpy as np\n",
    "\n",
    "#Read the dataset\n",
    "df = pd.read_csv(r\"C:\\Users\\ganes\\Desktop\\LaunchCode\\data-analysis-projects\\Final Project\\Final project Dataset Youtube subscibers.csv\")\n",
    "df.info()"
   ]
  },
  {
   "cell_type": "markdown",
   "metadata": {
    "azdata_cell_guid": "e172475a-c4ee-414a-8367-9965355dbba6"
   },
   "source": [
    "## Missing Data\n",
    "\n",
    "Test your dataset for missing data and handle it as needed. Make notes in the form of code comments as to your thought process."
   ]
  },
  {
   "cell_type": "code",
   "execution_count": 17,
   "metadata": {
    "azdata_cell_guid": "e1dc66ef-e471-4c27-92e7-ee878c106eba"
   },
   "outputs": [
    {
     "data": {
      "text/html": [
       "<div>\n",
       "<style scoped>\n",
       "    .dataframe tbody tr th:only-of-type {\n",
       "        vertical-align: middle;\n",
       "    }\n",
       "\n",
       "    .dataframe tbody tr th {\n",
       "        vertical-align: top;\n",
       "    }\n",
       "\n",
       "    .dataframe thead th {\n",
       "        text-align: right;\n",
       "    }\n",
       "</style>\n",
       "<table border=\"1\" class=\"dataframe\">\n",
       "  <thead>\n",
       "    <tr style=\"text-align: right;\">\n",
       "      <th></th>\n",
       "      <th>rank</th>\n",
       "      <th>Youtuber</th>\n",
       "      <th>subscribers</th>\n",
       "      <th>video views</th>\n",
       "      <th>video count</th>\n",
       "      <th>category</th>\n",
       "      <th>started</th>\n",
       "    </tr>\n",
       "  </thead>\n",
       "  <tbody>\n",
       "    <tr>\n",
       "      <th>0</th>\n",
       "      <td>False</td>\n",
       "      <td>False</td>\n",
       "      <td>False</td>\n",
       "      <td>False</td>\n",
       "      <td>False</td>\n",
       "      <td>False</td>\n",
       "      <td>False</td>\n",
       "    </tr>\n",
       "    <tr>\n",
       "      <th>1</th>\n",
       "      <td>False</td>\n",
       "      <td>False</td>\n",
       "      <td>False</td>\n",
       "      <td>False</td>\n",
       "      <td>False</td>\n",
       "      <td>False</td>\n",
       "      <td>False</td>\n",
       "    </tr>\n",
       "    <tr>\n",
       "      <th>2</th>\n",
       "      <td>False</td>\n",
       "      <td>False</td>\n",
       "      <td>False</td>\n",
       "      <td>False</td>\n",
       "      <td>False</td>\n",
       "      <td>False</td>\n",
       "      <td>False</td>\n",
       "    </tr>\n",
       "    <tr>\n",
       "      <th>3</th>\n",
       "      <td>False</td>\n",
       "      <td>False</td>\n",
       "      <td>False</td>\n",
       "      <td>False</td>\n",
       "      <td>False</td>\n",
       "      <td>False</td>\n",
       "      <td>False</td>\n",
       "    </tr>\n",
       "    <tr>\n",
       "      <th>4</th>\n",
       "      <td>False</td>\n",
       "      <td>False</td>\n",
       "      <td>False</td>\n",
       "      <td>False</td>\n",
       "      <td>False</td>\n",
       "      <td>True</td>\n",
       "      <td>False</td>\n",
       "    </tr>\n",
       "    <tr>\n",
       "      <th>...</th>\n",
       "      <td>...</td>\n",
       "      <td>...</td>\n",
       "      <td>...</td>\n",
       "      <td>...</td>\n",
       "      <td>...</td>\n",
       "      <td>...</td>\n",
       "      <td>...</td>\n",
       "    </tr>\n",
       "    <tr>\n",
       "      <th>995</th>\n",
       "      <td>False</td>\n",
       "      <td>False</td>\n",
       "      <td>False</td>\n",
       "      <td>False</td>\n",
       "      <td>False</td>\n",
       "      <td>False</td>\n",
       "      <td>False</td>\n",
       "    </tr>\n",
       "    <tr>\n",
       "      <th>996</th>\n",
       "      <td>False</td>\n",
       "      <td>False</td>\n",
       "      <td>False</td>\n",
       "      <td>False</td>\n",
       "      <td>False</td>\n",
       "      <td>False</td>\n",
       "      <td>False</td>\n",
       "    </tr>\n",
       "    <tr>\n",
       "      <th>997</th>\n",
       "      <td>False</td>\n",
       "      <td>False</td>\n",
       "      <td>False</td>\n",
       "      <td>False</td>\n",
       "      <td>False</td>\n",
       "      <td>False</td>\n",
       "      <td>False</td>\n",
       "    </tr>\n",
       "    <tr>\n",
       "      <th>998</th>\n",
       "      <td>False</td>\n",
       "      <td>False</td>\n",
       "      <td>False</td>\n",
       "      <td>False</td>\n",
       "      <td>False</td>\n",
       "      <td>False</td>\n",
       "      <td>False</td>\n",
       "    </tr>\n",
       "    <tr>\n",
       "      <th>999</th>\n",
       "      <td>False</td>\n",
       "      <td>False</td>\n",
       "      <td>False</td>\n",
       "      <td>False</td>\n",
       "      <td>False</td>\n",
       "      <td>False</td>\n",
       "      <td>False</td>\n",
       "    </tr>\n",
       "  </tbody>\n",
       "</table>\n",
       "<p>1000 rows × 7 columns</p>\n",
       "</div>"
      ],
      "text/plain": [
       "      rank  Youtuber  subscribers  video views  video count  category  started\n",
       "0    False     False        False        False        False     False    False\n",
       "1    False     False        False        False        False     False    False\n",
       "2    False     False        False        False        False     False    False\n",
       "3    False     False        False        False        False     False    False\n",
       "4    False     False        False        False        False      True    False\n",
       "..     ...       ...          ...          ...          ...       ...      ...\n",
       "995  False     False        False        False        False     False    False\n",
       "996  False     False        False        False        False     False    False\n",
       "997  False     False        False        False        False     False    False\n",
       "998  False     False        False        False        False     False    False\n",
       "999  False     False        False        False        False     False    False\n",
       "\n",
       "[1000 rows x 7 columns]"
      ]
     },
     "execution_count": 17,
     "metadata": {},
     "output_type": "execute_result"
    }
   ],
   "source": [
    "# I will run the following code to know if the dataset has missing values.\n",
    "\n",
    "df.isnull()\n",
    "\n",
    "# Only the 'category' column shows missing data. Data in rest of the column looks good.\n",
    "#At this point i am not going to do any changes. Will do later if needed."
   ]
  },
  {
   "cell_type": "code",
   "execution_count": 18,
   "metadata": {},
   "outputs": [
    {
     "name": "stdout",
     "output_type": "stream",
     "text": [
      "Index(['rank', 'Youtuber', 'subscribers', 'video views', 'video count',\n",
      "       'category', 'started'],\n",
      "      dtype='object')\n"
     ]
    }
   ],
   "source": [
    "columns = df.columns\n",
    "\n",
    "print(columns)"
   ]
  },
  {
   "cell_type": "code",
   "execution_count": 19,
   "metadata": {},
   "outputs": [
    {
     "data": {
      "text/plain": [
       "rank            0\n",
       "Youtuber        0\n",
       "subscribers     0\n",
       "video views     0\n",
       "video count     0\n",
       "category       27\n",
       "started         0\n",
       "dtype: int64"
      ]
     },
     "execution_count": 19,
     "metadata": {},
     "output_type": "execute_result"
    }
   ],
   "source": [
    "# I will run the following code to see exactly how many values are missing.\n",
    "df.isnull().sum()\n",
    "# 27 values are missing in the column 'category'. \n",
    "# I will not make any changes like deleting the column or adding the values. I will do it later as needed."
   ]
  },
  {
   "cell_type": "code",
   "execution_count": 23,
   "metadata": {},
   "outputs": [],
   "source": [
    "\n",
    "df['category'] = df['category'].fillna('unknown')"
   ]
  },
  {
   "cell_type": "code",
   "execution_count": 5,
   "metadata": {},
   "outputs": [
    {
     "data": {
      "text/html": [
       "<div>\n",
       "<style scoped>\n",
       "    .dataframe tbody tr th:only-of-type {\n",
       "        vertical-align: middle;\n",
       "    }\n",
       "\n",
       "    .dataframe tbody tr th {\n",
       "        vertical-align: top;\n",
       "    }\n",
       "\n",
       "    .dataframe thead th {\n",
       "        text-align: right;\n",
       "    }\n",
       "</style>\n",
       "<table border=\"1\" class=\"dataframe\">\n",
       "  <thead>\n",
       "    <tr style=\"text-align: right;\">\n",
       "      <th></th>\n",
       "      <th>rank</th>\n",
       "      <th>started</th>\n",
       "    </tr>\n",
       "  </thead>\n",
       "  <tbody>\n",
       "    <tr>\n",
       "      <th>count</th>\n",
       "      <td>1000.000000</td>\n",
       "      <td>1000.000000</td>\n",
       "    </tr>\n",
       "    <tr>\n",
       "      <th>mean</th>\n",
       "      <td>500.500000</td>\n",
       "      <td>2012.376000</td>\n",
       "    </tr>\n",
       "    <tr>\n",
       "      <th>std</th>\n",
       "      <td>288.819436</td>\n",
       "      <td>3.998076</td>\n",
       "    </tr>\n",
       "    <tr>\n",
       "      <th>min</th>\n",
       "      <td>1.000000</td>\n",
       "      <td>1970.000000</td>\n",
       "    </tr>\n",
       "    <tr>\n",
       "      <th>25%</th>\n",
       "      <td>250.750000</td>\n",
       "      <td>2010.000000</td>\n",
       "    </tr>\n",
       "    <tr>\n",
       "      <th>50%</th>\n",
       "      <td>500.500000</td>\n",
       "      <td>2013.000000</td>\n",
       "    </tr>\n",
       "    <tr>\n",
       "      <th>75%</th>\n",
       "      <td>750.250000</td>\n",
       "      <td>2015.000000</td>\n",
       "    </tr>\n",
       "    <tr>\n",
       "      <th>max</th>\n",
       "      <td>1000.000000</td>\n",
       "      <td>2021.000000</td>\n",
       "    </tr>\n",
       "  </tbody>\n",
       "</table>\n",
       "</div>"
      ],
      "text/plain": [
       "              rank      started\n",
       "count  1000.000000  1000.000000\n",
       "mean    500.500000  2012.376000\n",
       "std     288.819436     3.998076\n",
       "min       1.000000  1970.000000\n",
       "25%     250.750000  2010.000000\n",
       "50%     500.500000  2013.000000\n",
       "75%     750.250000  2015.000000\n",
       "max    1000.000000  2021.000000"
      ]
     },
     "execution_count": 5,
     "metadata": {},
     "output_type": "execute_result"
    }
   ],
   "source": [
    "df.describe()"
   ]
  },
  {
   "cell_type": "code",
   "execution_count": 10,
   "metadata": {},
   "outputs": [
    {
     "name": "stdout",
     "output_type": "stream",
     "text": [
      "rank - 0%\n",
      "Youtuber - 0%\n",
      "subscribers - 0%\n",
      "video views - 0%\n",
      "video count - 0%\n",
      "category - 3%\n",
      "started - 0%\n"
     ]
    }
   ],
   "source": [
    "for col in df.columns:\n",
    "    pct_missing = np.mean(df[col].isnull())\n",
    "    print('{} - {}%'.format(col, round(pct_missing*100)))"
   ]
  },
  {
   "cell_type": "markdown",
   "metadata": {
    "azdata_cell_guid": "1233f543-e9a0-4f78-96f5-d7536554102e"
   },
   "source": [
    "## Irregular Data\n",
    "\n",
    "Detect outliers in your dataset and handle them as needed. Use code comments to make notes about your thought process."
   ]
  },
  {
   "cell_type": "code",
   "execution_count": 7,
   "metadata": {
    "azdata_cell_guid": "efed50ae-16f0-471d-98e2-632553a74c12"
   },
   "outputs": [
    {
     "name": "stdout",
     "output_type": "stream",
     "text": [
      "    rank Youtuber subscribers    video views video count         category  \\\n",
      "99   100  YouTube  33,300,000  2,725,286,912         540  News & Politics   \n",
      "\n",
      "    started  \n",
      "99     1970  \n"
     ]
    }
   ],
   "source": [
    "# Calculate Q1 (25th percentile) and Q3 (75th percentile)\n",
    "df['started'] = df['started'].fillna(0)\n",
    "df['started'] = df['started'].astype('int64')\n",
    "Q1 = df['started'].quantile(0.25)\n",
    "Q3 = df['started'].quantile(0.75)\n",
    "IQR = Q3 - Q1\n",
    "\n",
    "# Define outlier boundaries\n",
    "lower_bound = Q1 - 1.5 * IQR\n",
    "upper_bound = Q3 + 1.5 * IQR\n",
    "\n",
    "# Find outliers\n",
    "outliers = df[(df['started'] < lower_bound) | (df['started'] > upper_bound)]\n",
    "\n",
    "print(outliers)\n"
   ]
  },
  {
   "cell_type": "code",
   "execution_count": 42,
   "metadata": {},
   "outputs": [
    {
     "data": {
      "text/plain": [
       "<Axes: >"
      ]
     },
     "execution_count": 42,
     "metadata": {},
     "output_type": "execute_result"
    },
    {
     "data": {
      "image/png": "[encoded data removed]",
      "text/plain": [
       "<Figure size 640x480 with 1 Axes>"
      ]
     },
     "metadata": {},
     "output_type": "display_data"
    }
   ],
   "source": [
    "df.boxplot(column=['started'])\n",
    "#Here channel was started in 1970. We will drop that value.\n"
   ]
  },
  {
   "cell_type": "markdown",
   "metadata": {
    "azdata_cell_guid": "6f5b8ee0-bab3-44bc-958a-67d1e4c0407f"
   },
   "source": [
    "## Unnecessary Data\n",
    "\n",
    "Look for the different types of unnecessary data in your dataset and address it as needed. Make sure to use code comments to illustrate your thought process."
   ]
  },
  {
   "cell_type": "code",
   "execution_count": 30,
   "metadata": {
    "azdata_cell_guid": "e788a239-2fbf-41de-9bd3-19e52e3b187c"
   },
   "outputs": [
    {
     "name": "stdout",
     "output_type": "stream",
     "text": [
      "Duplicate Rows:\n",
      "Empty DataFrame\n",
      "Columns: [rank, Youtuber, subscribers, video views, video count, category, started]\n",
      "Index: []\n"
     ]
    }
   ],
   "source": [
    "#duplicate\n",
    "# Find duplicate rows\n",
    "duplicates = df.duplicated()\n",
    "\n",
    "# Display the duplicates\n",
    "print(\"Duplicate Rows:\")\n",
    "print(df[duplicates])\n",
    "\n",
    "#There are no duplicate rows."
   ]
  },
  {
   "cell_type": "code",
   "execution_count": 32,
   "metadata": {},
   "outputs": [
    {
     "name": "stdout",
     "output_type": "stream",
     "text": [
      "Duplicate Columns: {}\n"
     ]
    }
   ],
   "source": [
    "# Method to find duplicate columns\n",
    "def find_duplicate_columns(df):\n",
    "    duplicates = {}\n",
    "    for col in df.columns:\n",
    "        for other_col in df.columns:\n",
    "            if col != other_col and df[col].equals(df[other_col]):\n",
    "                duplicates[col] = other_col\n",
    "    return duplicates\n",
    "\n",
    "duplicate_columns_dict = find_duplicate_columns(df)\n",
    "print(\"Duplicate Columns:\", duplicate_columns_dict)\n",
    "\n",
    "\n",
    "#There are no duplicate columns."
   ]
  },
  {
   "cell_type": "code",
   "execution_count": 5,
   "metadata": {},
   "outputs": [
    {
     "name": "stdout",
     "output_type": "stream",
     "text": [
      "     rank             Youtuber  subscribers     video views video count  \\\n",
      "1       2       YouTube Movies  154,000,000               0           0   \n",
      "4       5                Music  116,000,000               0           0   \n",
      "6       7              MrBeast  102,000,000  16,832,456,681         726   \n",
      "7       8  âœ¿ Kids Diana Show   99,700,000  79,602,288,245       1,009   \n",
      "8       9          Like Nastya   99,200,000  81,963,845,811         702   \n",
      "..    ...                  ...          ...             ...         ...   \n",
      "995   996             JP Plays   10,900,000   4,609,300,218       3,528   \n",
      "996   997        TrapMusicHDTV   10,900,000   4,070,521,973         690   \n",
      "997   998          Games EduUu   10,900,000   3,093,784,767       1,006   \n",
      "998   999                Hueva   10,900,000   3,040,301,750         831   \n",
      "999  1000       Dobre Brothers   10,900,000   2,808,411,693         590   \n",
      "\n",
      "             category  started  \n",
      "1    Film & Animation     2015  \n",
      "4                 NaN     2013  \n",
      "6       Entertainment     2012  \n",
      "7      People & Blogs     2015  \n",
      "8      People & Blogs     2016  \n",
      "..                ...      ...  \n",
      "995            Gaming     2014  \n",
      "996             Music     2013  \n",
      "997            Gaming     2011  \n",
      "998            Gaming     2012  \n",
      "999    People & Blogs     2017  \n",
      "\n",
      "[705 rows x 7 columns]\n"
     ]
    }
   ],
   "source": [
    "#As Youtube trends are changing so fast, I want to consider the data from last 5 years only to see whats trending now.\n",
    "# For this I will choose the data from last 10 years only for my further analysis.\n",
    "\n",
    "df_filtered = df[(df['started'] >= 2011) & (df['started'] <= 2021)]\n",
    "print(df_filtered)"
   ]
  },
  {
   "cell_type": "markdown",
   "metadata": {
    "azdata_cell_guid": "53e0cf94-c68a-4fa0-9849-9505a66bcce6"
   },
   "source": [
    "## Inconsistent Data\n",
    "\n",
    "Check for inconsistent data and address any that arises. As always, use code comments to illustrate your thought process."
   ]
  },
  {
   "cell_type": "code",
   "execution_count": 11,
   "metadata": {
    "azdata_cell_guid": "e9de6624-812a-43f8-8e20-93b4a49b091f"
   },
   "outputs": [
    {
     "name": "stdout",
     "output_type": "stream",
     "text": [
      "rank            int64\n",
      "Youtuber       object\n",
      "subscribers    object\n",
      "video views    object\n",
      "video count    object\n",
      "category       object\n",
      "started         int64\n",
      "dtype: object\n"
     ]
    }
   ],
   "source": [
    "#datatypes\n",
    "print(df_filtered.dtypes)"
   ]
  },
  {
   "cell_type": "code",
   "execution_count": 12,
   "metadata": {},
   "outputs": [
    {
     "data": {
      "text/plain": [
       "started\n",
       "2014    119\n",
       "2013     93\n",
       "2015     93\n",
       "2011     93\n",
       "2012     85\n",
       "2016     77\n",
       "2017     60\n",
       "2018     46\n",
       "2019     25\n",
       "2020     10\n",
       "2021      4\n",
       "Name: count, dtype: int64"
      ]
     },
     "execution_count": 12,
     "metadata": {},
     "output_type": "execute_result"
    }
   ],
   "source": [
    "df_filtered.started.value_counts()"
   ]
  },
  {
   "cell_type": "code",
   "execution_count": 13,
   "metadata": {},
   "outputs": [
    {
     "name": "stdout",
     "output_type": "stream",
     "text": [
      "rank - 0%\n",
      "Youtuber - 0%\n",
      "subscribers - 0%\n",
      "video views - 0%\n",
      "video count - 0%\n",
      "category - 4%\n",
      "started - 0%\n"
     ]
    }
   ],
   "source": [
    "for col in df_filtered.columns:\n",
    "    pct_missing = np.mean(df_filtered[col].isnull())\n",
    "    print('{} - {}%'.format(col, round(pct_missing*100)))"
   ]
  },
  {
   "cell_type": "code",
   "execution_count": 10,
   "metadata": {},
   "outputs": [
    {
     "name": "stdout",
     "output_type": "stream",
     "text": [
      "     rank             Youtuber  subscribers     video views video count  \\\n",
      "1       2       YouTube Movies  154,000,000               0           0   \n",
      "6       7              MrBeast  102,000,000  16,832,456,681         726   \n",
      "7       8  âœ¿ Kids Diana Show   99,700,000  79,602,288,245       1,009   \n",
      "8       9          Like Nastya   99,200,000  81,963,845,811         702   \n",
      "11     12    Zee Music Company   86,700,000  49,067,711,243       6,603   \n",
      "..    ...                  ...          ...             ...         ...   \n",
      "995   996             JP Plays   10,900,000   4,609,300,218       3,528   \n",
      "996   997        TrapMusicHDTV   10,900,000   4,070,521,973         690   \n",
      "997   998          Games EduUu   10,900,000   3,093,784,767       1,006   \n",
      "998   999                Hueva   10,900,000   3,040,301,750         831   \n",
      "999  1000       Dobre Brothers   10,900,000   2,808,411,693         590   \n",
      "\n",
      "             category  started  \n",
      "1    Film & Animation     2015  \n",
      "6       Entertainment     2012  \n",
      "7      People & Blogs     2015  \n",
      "8      People & Blogs     2016  \n",
      "11              Music     2014  \n",
      "..                ...      ...  \n",
      "995            Gaming     2014  \n",
      "996             Music     2013  \n",
      "997            Gaming     2011  \n",
      "998            Gaming     2012  \n",
      "999    People & Blogs     2017  \n",
      "\n",
      "[678 rows x 7 columns]\n"
     ]
    }
   ],
   "source": [
    "#Deleting the rows with missing values in 'category' column, because most of them are news channels and entertainment movies channels.\n",
    "df_filtered = df_filtered.dropna()\n",
    "print(df_filtered)"
   ]
  },
  {
   "cell_type": "code",
   "execution_count": 15,
   "metadata": {},
   "outputs": [
    {
     "name": "stdout",
     "output_type": "stream",
     "text": [
      "rank - 0%\n",
      "Youtuber - 0%\n",
      "subscribers - 0%\n",
      "video views - 0%\n",
      "video count - 0%\n",
      "category - 0%\n",
      "started - 0%\n"
     ]
    }
   ],
   "source": [
    "for col in df_filtered.columns:\n",
    "    pct_missing = np.mean(df_filtered[col].isnull())\n",
    "    print('{} - {}%'.format(col, round(pct_missing*100)))"
   ]
  },
  {
   "cell_type": "code",
   "execution_count": 12,
   "metadata": {},
   "outputs": [],
   "source": [
    "# Download the filtered DataFrame as a CSV file\n",
    "df_filtered.to_csv(r'C:\\Users\\ganes\\Desktop\\LaunchCode\\data-analysis-projects\\Final Project\\Filtered_data.csv')"
   ]
  },
  {
   "cell_type": "markdown",
   "metadata": {
    "azdata_cell_guid": "dedc0bfe-17d0-40b2-914f-2ddb54f9ce0d"
   },
   "source": [
    "## Summarize Your Results\n",
    "\n",
    "Make note of your answers to the following questions.\n",
    "\n",
    "1. Did you find all four types of dirty data in your dataset? Yes.\n",
    "2. Did the process of cleaning your data give you new insights into your dataset? Yes\n",
    "3. Is there anything you would like to make note of when it comes to manipulating the data and making visualizations? No"
   ]
  }
 ],
 "metadata": {
  "kernelspec": {
   "display_name": "Python 3 (ipykernel)",
   "language": "python",
   "name": "python3"
  },
  "language_info": {
   "codemirror_mode": {
    "name": "ipython",
    "version": 3
   },
   "file_extension": ".py",
   "mimetype": "text/x-python",
   "name": "python",
   "nbconvert_exporter": "python",
   "pygments_lexer": "ipython3",
   "version": "3.12.4"
  }
 },
 "nbformat": 4,
 "nbformat_minor": 4
}
